{
  "cells": [
    {
      "cell_type": "markdown",
      "metadata": {
        "id": "view-in-github",
        "colab_type": "text"
      },
      "source": [
        "<a href=\"https://colab.research.google.com/github/aswanthoffl/DDD-Project/blob/main/Model%20Training/Drowsy_Yawn%20(2).ipynb\" target=\"_parent\"><img src=\"https://colab.research.google.com/assets/colab-badge.svg\" alt=\"Open In Colab\"/></a>"
      ]
    },
    {
      "cell_type": "code",
      "execution_count": 2,
      "metadata": {
        "id": "EtgNXw91szdZ"
      },
      "outputs": [],
      "source": [
        "import tensorflow as tf\n",
        "from tensorflow.keras.applications import InceptionV3\n",
        "from tensorflow.keras.models import Model\n",
        "from tensorflow.keras.layers import Dropout,Input,Flatten,Dense,MaxPooling2D \n",
        "from tensorflow.keras.preprocessing.image import ImageDataGenerator"
      ]
    },
    {
      "cell_type": "code",
      "execution_count": 1,
      "metadata": {
        "colab": {
          "base_uri": "https://localhost:8080/"
        },
        "id": "cf1uKpIftQuR",
        "outputId": "a88990f8-7616-419c-c8ee-30401bbbb24d"
      },
      "outputs": [
        {
          "output_type": "stream",
          "name": "stdout",
          "text": [
            "Drive already mounted at /content/drive/; to attempt to forcibly remount, call drive.mount(\"/content/drive/\", force_remount=True).\n"
          ]
        }
      ],
      "source": [
        "from google.colab import drive\n",
        "drive.mount('/content/drive/')"
      ]
    },
    {
      "cell_type": "code",
      "execution_count": 3,
      "metadata": {
        "colab": {
          "base_uri": "https://localhost:8080/"
        },
        "id": "FA_OqdoptcBk",
        "outputId": "ad5e43a3-200a-4c92-fcff-7fd748bfbcde"
      },
      "outputs": [
        {
          "output_type": "stream",
          "name": "stdout",
          "text": [
            "/content/drive/MyDrive/EY_Dataset/dataset_new/yawn_dataset\n"
          ]
        }
      ],
      "source": [
        "cd '/content/drive/MyDrive/EY_Dataset/dataset_new/yawn_dataset' "
      ]
    },
    {
      "cell_type": "code",
      "execution_count": 4,
      "metadata": {
        "colab": {
          "base_uri": "https://localhost:8080/"
        },
        "id": "Mb1lcLobtsRz",
        "outputId": "690213f4-f194-4c44-dd35-dbe611683401"
      },
      "outputs": [
        {
          "output_type": "stream",
          "name": "stdout",
          "text": [
            "Found 987 images belonging to 2 classes.\n",
            "Found 246 images belonging to 2 classes.\n",
            "Found 215 images belonging to 2 classes.\n"
          ]
        }
      ],
      "source": [
        "\n",
        "batchsize=32\n",
        "train_datagen= ImageDataGenerator(rescale=1./255, rotation_range=0.2,shear_range=0.2,zoom_range=0.2,width_shift_range=0.2,height_shift_range=0.2, validation_split=0.2)\n",
        "train_data= train_datagen.flow_from_directory(r'train',target_size=(80,80),batch_size=batchsize,class_mode='categorical',subset='training' )\n",
        "validation_data= train_datagen.flow_from_directory(r'train',target_size=(80,80),batch_size=batchsize,class_mode='categorical', subset='validation')\n",
        "test_datagen = ImageDataGenerator(rescale=1./255)\n",
        "test_data = test_datagen.flow_from_directory(r'test',target_size=(80,80),batch_size=batchsize,class_mode='categorical')"
      ]
    },
    {
      "cell_type": "code",
      "execution_count": 5,
      "metadata": {
        "id": "T1dMBjYjwKBb",
        "colab": {
          "base_uri": "https://localhost:8080/"
        },
        "outputId": "89fc7851-444d-41d5-fa1b-815215115c8c"
      },
      "outputs": [
        {
          "output_type": "stream",
          "name": "stdout",
          "text": [
            "Downloading data from https://storage.googleapis.com/tensorflow/keras-applications/inception_v3/inception_v3_weights_tf_dim_ordering_tf_kernels_notop.h5\n",
            "87910968/87910968 [==============================] - 4s 0us/step\n"
          ]
        }
      ],
      "source": [
        "\n",
        "# Load the pre-trained InceptionV3 model without the top layers\n",
        "bmodel = InceptionV3(include_top=False, weights='imagenet', input_tensor=Input(shape=(80,80,3)))\n",
        "hmodel = bmodel.output\n",
        "hmodel = Flatten()(hmodel)\n",
        "hmodel = Dense(64, activation='relu')(hmodel)\n",
        "hmodel = Dropout(0.5)(hmodel)\n",
        "hmodel = Dense(2,activation= 'softmax')(hmodel)\n",
        "\n",
        "# Add new dense layers on top of the pre-trained model\n",
        "model = Model(inputs=bmodel.input, outputs= hmodel)\n",
        "for layer in bmodel.layers:\n",
        "        layer.trainable = False\n"
      ]
    },
    {
      "cell_type": "code",
      "execution_count": 6,
      "metadata": {
        "id": "kcEniv4rwyWn"
      },
      "outputs": [],
      "source": [
        "from keras.optimizers import Adam\n",
        "from tensorflow.keras.callbacks import ModelCheckpoint,EarlyStopping, ReduceLROnPlateau,TensorBoard\n",
        "checkpoint = ModelCheckpoint(r'models/model_yawn4.h5',monitor='val_loss',save_best_only=True,verbose=3)\n",
        "earlystop = EarlyStopping(monitor = 'val_loss', patience=7, verbose=3, restore_best_weights=True)\n",
        "learning_rate = ReduceLROnPlateau(monitor= 'val_loss', patience=3, verbose= 3 )\n",
        "tensor_board= TensorBoard(r'Graph', histogram_freq=0, write_graph=True, write_images=True)\n",
        "callbacks=[checkpoint,earlystop,learning_rate,tensor_board]\n",
        "\n",
        "opt = Adam(learning_rate=0.001)\n",
        "\n",
        "model.compile(loss='categorical_crossentropy', optimizer=opt, metrics=['accuracy'])"
      ]
    },
    {
      "cell_type": "code",
      "execution_count": 7,
      "metadata": {
        "colab": {
          "base_uri": "https://localhost:8080/"
        },
        "id": "VNInnN8_xIE8",
        "outputId": "fd4d6e62-764f-49da-8f02-4199af16b6cb"
      },
      "outputs": [
        {
          "output_type": "stream",
          "name": "stdout",
          "text": [
            "Epoch 1/300\n",
            "30/30 [==============================] - ETA: 0s - loss: 0.8756 - accuracy: 0.5435\n",
            "Epoch 1: val_loss improved from inf to 0.67466, saving model to models/model_yawn4.h5\n",
            "30/30 [==============================] - 379s 13s/step - loss: 0.8756 - accuracy: 0.5435 - val_loss: 0.6747 - val_accuracy: 0.5893 - lr: 0.0010\n",
            "Epoch 2/300\n",
            "30/30 [==============================] - ETA: 0s - loss: 0.6435 - accuracy: 0.6335\n",
            "Epoch 2: val_loss improved from 0.67466 to 0.66010, saving model to models/model_yawn4.h5\n",
            "30/30 [==============================] - 25s 832ms/step - loss: 0.6435 - accuracy: 0.6335 - val_loss: 0.6601 - val_accuracy: 0.5714 - lr: 0.0010\n",
            "Epoch 3/300\n",
            "30/30 [==============================] - ETA: 0s - loss: 0.6377 - accuracy: 0.6251\n",
            "Epoch 3: val_loss improved from 0.66010 to 0.65079, saving model to models/model_yawn4.h5\n",
            "30/30 [==============================] - 24s 795ms/step - loss: 0.6377 - accuracy: 0.6251 - val_loss: 0.6508 - val_accuracy: 0.6696 - lr: 0.0010\n",
            "Epoch 4/300\n",
            "30/30 [==============================] - ETA: 0s - loss: 0.6039 - accuracy: 0.6524\n",
            "Epoch 4: val_loss did not improve from 0.65079\n",
            "30/30 [==============================] - 29s 982ms/step - loss: 0.6039 - accuracy: 0.6524 - val_loss: 0.7075 - val_accuracy: 0.5893 - lr: 0.0010\n",
            "Epoch 5/300\n",
            "30/30 [==============================] - ETA: 0s - loss: 0.6085 - accuracy: 0.6597\n",
            "Epoch 5: val_loss did not improve from 0.65079\n",
            "30/30 [==============================] - 28s 946ms/step - loss: 0.6085 - accuracy: 0.6597 - val_loss: 0.6567 - val_accuracy: 0.5714 - lr: 0.0010\n",
            "Epoch 6/300\n",
            "30/30 [==============================] - ETA: 0s - loss: 0.6067 - accuracy: 0.6461\n",
            "Epoch 6: val_loss did not improve from 0.65079\n",
            "\n",
            "Epoch 6: ReduceLROnPlateau reducing learning rate to 0.00010000000474974513.\n",
            "30/30 [==============================] - 28s 944ms/step - loss: 0.6067 - accuracy: 0.6461 - val_loss: 0.6584 - val_accuracy: 0.6071 - lr: 0.0010\n",
            "Epoch 7/300\n",
            "30/30 [==============================] - ETA: 0s - loss: 0.5987 - accuracy: 0.6565\n",
            "Epoch 7: val_loss improved from 0.65079 to 0.61201, saving model to models/model_yawn4.h5\n",
            "30/30 [==============================] - 30s 998ms/step - loss: 0.5987 - accuracy: 0.6565 - val_loss: 0.6120 - val_accuracy: 0.6429 - lr: 1.0000e-04\n",
            "Epoch 8/300\n",
            "30/30 [==============================] - ETA: 0s - loss: 0.5915 - accuracy: 0.6639\n",
            "Epoch 8: val_loss did not improve from 0.61201\n",
            "30/30 [==============================] - 24s 791ms/step - loss: 0.5915 - accuracy: 0.6639 - val_loss: 0.6403 - val_accuracy: 0.6161 - lr: 1.0000e-04\n",
            "Epoch 9/300\n",
            "30/30 [==============================] - ETA: 0s - loss: 0.5973 - accuracy: 0.6513\n",
            "Epoch 9: val_loss did not improve from 0.61201\n",
            "30/30 [==============================] - 24s 796ms/step - loss: 0.5973 - accuracy: 0.6513 - val_loss: 0.6348 - val_accuracy: 0.5938 - lr: 1.0000e-04\n",
            "Epoch 10/300\n",
            "30/30 [==============================] - ETA: 0s - loss: 0.5732 - accuracy: 0.6848\n",
            "Epoch 10: val_loss did not improve from 0.61201\n",
            "\n",
            "Epoch 10: ReduceLROnPlateau reducing learning rate to 1.0000000474974514e-05.\n",
            "30/30 [==============================] - 23s 753ms/step - loss: 0.5732 - accuracy: 0.6848 - val_loss: 0.6948 - val_accuracy: 0.5625 - lr: 1.0000e-04\n",
            "Epoch 11/300\n",
            "30/30 [==============================] - ETA: 0s - loss: 0.5744 - accuracy: 0.6963\n",
            "Epoch 11: val_loss did not improve from 0.61201\n",
            "30/30 [==============================] - 23s 768ms/step - loss: 0.5744 - accuracy: 0.6963 - val_loss: 0.6549 - val_accuracy: 0.5848 - lr: 1.0000e-05\n",
            "Epoch 12/300\n",
            "30/30 [==============================] - ETA: 0s - loss: 0.5828 - accuracy: 0.6513\n",
            "Epoch 12: val_loss did not improve from 0.61201\n",
            "30/30 [==============================] - 24s 814ms/step - loss: 0.5828 - accuracy: 0.6513 - val_loss: 0.6429 - val_accuracy: 0.5848 - lr: 1.0000e-05\n",
            "Epoch 13/300\n",
            "30/30 [==============================] - ETA: 0s - loss: 0.5827 - accuracy: 0.6681\n",
            "Epoch 13: val_loss did not improve from 0.61201\n",
            "\n",
            "Epoch 13: ReduceLROnPlateau reducing learning rate to 1.0000000656873453e-06.\n",
            "30/30 [==============================] - 28s 936ms/step - loss: 0.5827 - accuracy: 0.6681 - val_loss: 0.6423 - val_accuracy: 0.6339 - lr: 1.0000e-05\n",
            "Epoch 14/300\n",
            "30/30 [==============================] - ETA: 0s - loss: 0.5809 - accuracy: 0.6806\n",
            "Epoch 14: val_loss did not improve from 0.61201\n",
            "Restoring model weights from the end of the best epoch: 7.\n",
            "30/30 [==============================] - 28s 948ms/step - loss: 0.5809 - accuracy: 0.6806 - val_loss: 0.6608 - val_accuracy: 0.5670 - lr: 1.0000e-06\n",
            "Epoch 14: early stopping\n"
          ]
        }
      ],
      "source": [
        "history = model.fit(train_data,steps_per_epoch=train_data.samples//batchsize,validation_data=validation_data,validation_steps=validation_data.samples//batchsize,callbacks=callbacks,epochs=300)"
      ]
    },
    {
      "cell_type": "code",
      "execution_count": 8,
      "metadata": {
        "colab": {
          "base_uri": "https://localhost:8080/"
        },
        "id": "GjJiTGTHxbTN",
        "outputId": "c575b0fd-577d-450d-cd66-22435fc6051b"
      },
      "outputs": [
        {
          "output_type": "stream",
          "name": "stdout",
          "text": [
            "6/6 [==============================] - 98s 19s/step - loss: 0.5989 - accuracy: 0.6510\n",
            "Test accuracy: 0.6510416865348816\n"
          ]
        }
      ],
      "source": [
        "test_accuracy = model.evaluate(test_data, steps=test_data.samples // batchsize) \n",
        "print(\"Test accuracy:\", test_accuracy[1]) "
      ]
    },
    {
      "cell_type": "code",
      "execution_count": null,
      "metadata": {
        "id": "sQMfIAmR1RGP"
      },
      "outputs": [],
      "source": [
        "'''\n",
        "adam =67.1   ----  65.1  \n",
        "nadam = 66.6\n",
        "adadelta=65.1\n",
        "rmsprop = 63.5\n",
        "SGD=62.5\n",
        "adagrad=60.4\n",
        "\n",
        "'''\n",
        "'''\n",
        "relu = \"65.1\" 64.05 \n",
        "sigmoid=\"63.54\"\n",
        "tanh=60.4\n",
        "LeakyRelu =55.7\n",
        "'''\n",
        "'''\n",
        "binary_cross with relu =59.3\n",
        "\n",
        "'''"
      ]
    },
    {
      "cell_type": "code",
      "execution_count": null,
      "metadata": {
        "colab": {
          "base_uri": "https://localhost:8080/"
        },
        "id": "oI9GXjUPe4N8",
        "outputId": "f6a0f394-6984-42cd-a7b4-e304bdaeb4da"
      },
      "outputs": [
        {
          "output_type": "stream",
          "name": "stdout",
          "text": [
            "1/1 [==============================] - 1s 1s/step\n",
            "No Yawn detected with score: 0.85215604\n"
          ]
        }
      ],
      "source": [
        "import cv2\n",
        "import numpy as np\n",
        "from tensorflow.keras.models import load_model\n",
        "\n",
        "# Load the trained model \n",
        "model = load_model('/content/drive/MyDrive/EY_Dataset/dataset_new/yawn_dataset/models/model_yawn1.h5')\n",
        "\n",
        "\n",
        "# Define the image size\n",
        "IMAGE_SIZE = (80, 80)\n",
        "\n",
        "# Load the image and preprocess it\n",
        "mouth = cv2.imread('/content/drive/MyDrive/EY_Dataset/dataset_new/yawn_dataset/test/no_yawn/2090.jpg')\n",
        "mouth= cv2.resize(mouth,(80, 80))\n",
        "mouth= mouth/255\n",
        "mouth=mouth.reshape(80, 80,3)\n",
        "mouth= np.expand_dims(mouth,axis=0)\n",
        "# preprocessing is done now model prediction\n",
        "pred= model.predict(mouth)\n",
        "\n",
        "\n",
        "\n",
        "if pred[0][1] > pred[0][0]:\n",
        "    print('Yawn detected with score:', pred[0][1])\n",
        "else:\n",
        "    print('No Yawn detected with score:', pred[0][0])"
      ]
    },
    {
      "cell_type": "code",
      "execution_count": null,
      "metadata": {
        "colab": {
          "base_uri": "https://localhost:8080/"
        },
        "id": "Aw_QcxuGfflv",
        "outputId": "fc5c22f6-9ff5-406a-92cc-6f6d46bfbd17"
      },
      "outputs": [
        {
          "output_type": "stream",
          "name": "stdout",
          "text": [
            "8/8 [==============================] - 6s 499ms/step - loss: 0.6341 - accuracy: 0.6098\n",
            "Validation accuracy: 0.6097561120986938\n"
          ]
        }
      ],
      "source": [
        "from tensorflow.keras.models import load_model\n",
        "model = load_model('/content/drive/MyDrive/EY_Dataset/dataset_new/yawn_dataset/models/model_yawn1.h5')\n",
        "\n",
        "# Evaluate the model on the validation data\n",
        "val_loss, val_acc = model.evaluate(validation_data)\n",
        "\n",
        "# Print the validation accuracy\n",
        "print('Validation accuracy:', val_acc)"
      ]
    },
    {
      "cell_type": "code",
      "source": [],
      "metadata": {
        "id": "uaoXj9WqmAqZ"
      },
      "execution_count": null,
      "outputs": []
    },
    {
      "cell_type": "code",
      "execution_count": null,
      "metadata": {
        "id": "jYetV0WpgO9B"
      },
      "outputs": [],
      "source": []
    },
    {
      "cell_type": "code",
      "execution_count": null,
      "metadata": {
        "id": "cLlFDeoHhzCc"
      },
      "outputs": [],
      "source": []
    }
  ],
  "metadata": {
    "colab": {
      "provenance": [],
      "mount_file_id": "14n4C8xXqf-PgWQo41zG2STcCZSiP5_Xb",
      "authorship_tag": "ABX9TyOKeepZYjxj7aUY8G9NXmmb",
      "include_colab_link": true
    },
    "kernelspec": {
      "display_name": "Python 3",
      "name": "python3"
    },
    "language_info": {
      "name": "python"
    }
  },
  "nbformat": 4,
  "nbformat_minor": 0
}